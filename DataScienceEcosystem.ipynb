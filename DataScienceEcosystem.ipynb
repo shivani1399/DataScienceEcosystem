{
 "cells": [
  {
   "cell_type": "markdown",
   "id": "f810306f-b273-41f1-a31e-0cb2090316fb",
   "metadata": {},
   "source": [
    "# Data Science Tools and Ecosystem"
   ]
  },
  {
   "cell_type": "markdown",
   "id": "c10ab65c-fd20-4da6-aa02-60c088b9d973",
   "metadata": {},
   "source": [
    "In this notebook, Data Science Tools and Ecosystem are summarized."
   ]
  },
  {
   "cell_type": "markdown",
   "id": "2d2e4ecf-55d1-42f3-a738-6c514f4c13cc",
   "metadata": {},
   "source": [
    "**Objectives:** \n",
    "\n",
    "List popular languages for Data Science\n",
    "* Python\n",
    "* SQL\n",
    "* JavaScript"
   ]
  },
  {
   "cell_type": "markdown",
   "id": "5dc4f0ce-16f9-46e6-bfa4-97b788896edf",
   "metadata": {},
   "source": [
    "Some of the popular languages that Data Scientists use are:\n",
    "1. Python\n",
    "2. R\n",
    "3. Java\n",
    "4. C"
   ]
  },
  {
   "cell_type": "markdown",
   "id": "77af0baa-511c-4f13-99ad-a8578aa57277",
   "metadata": {},
   "source": [
    "Some of the commonly used libraries used by Data Scientists include:\n",
    "1. Pandas\n",
    "2. Numpy\n",
    "3. Plotly\n",
    "4. SciPy"
   ]
  },
  {
   "cell_type": "markdown",
   "id": "464b9efb-40c3-4e14-aadb-d42056b00321",
   "metadata": {},
   "source": [
    "|Data Science Tools|\n",
    "| --- |\n",
    "|Jupyter Notebooks|\n",
    "|Git|\n",
    "|Python|"
   ]
  },
  {
   "cell_type": "markdown",
   "id": "2099e972-62e5-44ff-8b6a-96ace7e2826c",
   "metadata": {},
   "source": [
    "### Below are a few examples of evaluating arithmetic expressions in Python"
   ]
  },
  {
   "cell_type": "code",
   "execution_count": 8,
   "id": "8a7cd75c-8a88-4239-806a-8c09deada3d7",
   "metadata": {},
   "outputs": [
    {
     "data": {
      "text/plain": [
       "17"
      ]
     },
     "execution_count": 8,
     "metadata": {},
     "output_type": "execute_result"
    }
   ],
   "source": [
    "#This a simple arithmetic expression to mutiply then add integers.\n",
    "(3*4)+5"
   ]
  },
  {
   "cell_type": "code",
   "execution_count": 10,
   "id": "06f7099f-343a-42f5-b3c4-51824117fca1",
   "metadata": {},
   "outputs": [
    {
     "name": "stdout",
     "output_type": "stream",
     "text": [
      "3.3333333333333335\n"
     ]
    }
   ],
   "source": [
    "#This will convert 200 minutes to hours by diving by 60.\n",
    "minutes = 200\n",
    "hours = minutes / 60\n",
    "print(hours)"
   ]
  },
  {
   "cell_type": "markdown",
   "id": "9aa38ebe-703d-4ce9-9d0b-f6c87c204b1d",
   "metadata": {},
   "source": [
    "## Author\n",
    "Shivani Thakur"
   ]
  },
  {
   "cell_type": "code",
   "execution_count": null,
   "id": "ce5bc355-f302-4a68-ab5a-4a1b647a279b",
   "metadata": {},
   "outputs": [],
   "source": []
  }
 ],
 "metadata": {
  "kernelspec": {
   "display_name": "Python 3 (ipykernel)",
   "language": "python",
   "name": "python3"
  },
  "language_info": {
   "codemirror_mode": {
    "name": "ipython",
    "version": 3
   },
   "file_extension": ".py",
   "mimetype": "text/x-python",
   "name": "python",
   "nbconvert_exporter": "python",
   "pygments_lexer": "ipython3",
   "version": "3.12.4"
  }
 },
 "nbformat": 4,
 "nbformat_minor": 5
}
